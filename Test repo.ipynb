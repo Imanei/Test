{
 "cells": [
  {
   "cell_type": "markdown",
   "id": "0bf1e8dd-a67d-429d-acf5-d05132cc59bf",
   "metadata": {},
   "source": [
    "Test Repo "
   ]
  },
  {
   "cell_type": "code",
   "execution_count": 2,
   "id": "eacfdd02-b2de-40db-af04-09d42c9a4385",
   "metadata": {},
   "outputs": [
    {
     "name": "stdout",
     "output_type": "stream",
     "text": [
      "This is iteration 1\n",
      "This is iteration 2\n",
      "This is iteration 3\n",
      "This is iteration 4\n",
      "This is iteration 5\n"
     ]
    }
   ],
   "source": [
    "for i in range(5):\n",
    "    print(f\"This is iteration {i + 1}\")"
   ]
  },
  {
   "cell_type": "code",
   "execution_count": null,
   "id": "45a7f373-6a60-480f-8897-fd0cdf9851fd",
   "metadata": {},
   "outputs": [],
   "source": []
  }
 ],
 "metadata": {
  "kernelspec": {
   "display_name": "Python 3 (ipykernel)",
   "language": "python",
   "name": "python3"
  },
  "language_info": {
   "codemirror_mode": {
    "name": "ipython",
    "version": 3
   },
   "file_extension": ".py",
   "mimetype": "text/x-python",
   "name": "python",
   "nbconvert_exporter": "python",
   "pygments_lexer": "ipython3",
   "version": "3.12.3"
  }
 },
 "nbformat": 4,
 "nbformat_minor": 5
}
